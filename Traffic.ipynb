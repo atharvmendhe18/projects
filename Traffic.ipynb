{
  "cells": [
    {
      "cell_type": "markdown",
      "metadata": {
        "id": "view-in-github",
        "colab_type": "text"
      },
      "source": [
        "<a href=\"https://colab.research.google.com/github/atharvmendhe18/projects/blob/main/Traffic.ipynb\" target=\"_parent\"><img src=\"https://colab.research.google.com/assets/colab-badge.svg\" alt=\"Open In Colab\"/></a>"
      ]
    },
    {
      "cell_type": "code",
      "execution_count": null,
      "metadata": {
        "id": "mj5F5gq6reSv"
      },
      "outputs": [],
      "source": [
        "from keras.layers.attention.multi_head_attention import activation\n",
        "import cv2\n",
        "import numpy as np\n",
        "import os\n",
        "import sys\n",
        "import tensorflow as tf\n",
        "import matplotlib.pyplot as plt\n",
        "\n",
        "from sklearn.model_selection import train_test_split\n",
        "\n",
        "EPOCHS = 25\n",
        "IMG_WIDTH = 30\n",
        "IMG_HEIGHT = 30\n",
        "NUM_CATEGORIES = 43\n",
        "TEST_SIZE = 0.4\n",
        "\n",
        "\n",
        "def main():\n",
        "    # Check command-line arguments\n",
        "    if len(sys.argv) not in [2, 3]:\n",
        "        sys.exit(\"Usage: python traffic.py data_directory [model.h5]\")\n",
        "\n",
        "    # Get image arrays and labels for all image files\n",
        "    images, labels = load_data(\"gtsrb\")\n",
        "\n",
        "    # Split data into training and testing sets\n",
        "    labels = tf.keras.utils.to_categorical(labels)\n",
        "    x_train, x_test, y_train, y_test = train_test_split(\n",
        "        np.array(images), np.array(labels), test_size=TEST_SIZE\n",
        "    )\n",
        "\n",
        "    # Get a compiled neural network\n",
        "    model = get_model()\n",
        "\n",
        "\n",
        "\n",
        "    # Fit model on training data\n",
        "    history = model.fit(x_train, y_train,validation_data=(x_test,y_test), epochs=EPOCHS)\n",
        "\n",
        "    # Evaluate neural network performance\n",
        "    model.evaluate(x_test, y_test, verbose=2)\n",
        "\n",
        "    # Save model to file\n",
        "\n",
        "    model.save(\"my_model7\")\n",
        "    print(f\"Model saved to mymodel7.\")\n",
        "\n",
        "    print(history.history.keys())\n",
        "\n",
        "\n",
        "    plt.plot(history.history['accuracy'])\n",
        "    plt.plot(history.history['val_accuracy'])\n",
        "    plt.title('model accuracy')\n",
        "    plt.ylabel('accuracy')\n",
        "    plt.xlabel('epoch')\n",
        "    plt.legend(['train','test'], loc='upper left')\n",
        "    plt.show()\n",
        "\n",
        "\n",
        "    plt.plot(history.history['loss'])\n",
        "    plt.plot(history.history['val_loss'])\n",
        "    plt.title('model loss')\n",
        "    plt.ylabel('loss')\n",
        "    plt.xlabel('epoch')\n",
        "    plt.legend(['train','test'], loc='upper left')\n",
        "    plt.show()\n",
        "\n",
        "\n",
        "def load_data(data_dir):\n",
        "\n",
        "    images = []\n",
        "    labels = []\n",
        "\n",
        "    for i in range(43):\n",
        "        folder_to_view = os.listdir(f\"{data_dir}/{i}\")\n",
        "        for image_to_read in folder_to_view:\n",
        "            image = cv2.imread(f\"{data_dir}/{i}/{image_to_read}\")\n",
        "            image = cv2.cvtColor(image, cv2.COLOR_BGR2RGB)\n",
        "            image = cv2.resize(image, dsize=(30,30))\n",
        "            image = image.astype(np.float32) / 255.0\n",
        "            images.append(image)\n",
        "            labels.append(i)\n",
        "\n",
        "    return (images, labels)\n",
        "\n",
        "    raise NotImplementedError\n",
        "\n",
        "\n",
        "def get_model():\n",
        "\n",
        "\n",
        "    model = tf.keras.models.Sequential()\n",
        "\n",
        "    model.add(tf.keras.layers.Conv2D(32,(3,3),activation=\"relu\", input_shape = (IMG_WIDTH, IMG_HEIGHT,3)))\n",
        "\n",
        "    model.add(tf.keras.layers.MaxPooling2D())\n",
        "\n",
        "    model.add(tf.keras.layers.Conv2D(32,(3,3),activation=\"relu\", input_shape = (IMG_WIDTH, IMG_HEIGHT,3)))\n",
        "\n",
        "    model.add(tf.keras.layers.MaxPooling2D())\n",
        "\n",
        "    model.add(tf.keras.layers.Conv2D(64,(3,3),activation=\"relu\", input_shape = (IMG_WIDTH, IMG_HEIGHT,3)))\n",
        "\n",
        "    model.add(tf.keras.layers.MaxPooling2D(pool_size=(3,3)))\n",
        "\n",
        "    model.add(tf.keras.layers.Flatten())\n",
        "\n",
        "    model.add(tf.keras.layers.Dense(100, input_shape = (IMG_WIDTH, IMG_HEIGHT, 3), activation = \"relu\"))\n",
        "\n",
        "    model.add(tf.keras.layers.Dropout(0.5))\n",
        "\n",
        "    model.add(tf.keras.layers.Dense(NUM_CATEGORIES, activation=\"softmax\"))\n",
        "\n",
        "    model.compile(\n",
        "        optimizer=\"adam\",\n",
        "        loss = \"categorical_crossentropy\",\n",
        "        metrics=[\"accuracy\"]\n",
        "    )\n",
        "\n",
        "    return model\n",
        "\n",
        "    raise NotImplementedError\n",
        "\n",
        "\n",
        "if __name__ == \"__main__\":\n",
        "    main()\n"
      ]
    },
    {
      "cell_type": "code",
      "execution_count": null,
      "metadata": {
        "id": "TkBzxNHme20m"
      },
      "outputs": [],
      "source": [
        "!wget https://cdn.cs50.net/ai/2020/x/projects/5/gtsrb.zip"
      ]
    },
    {
      "cell_type": "code",
      "execution_count": null,
      "metadata": {
        "id": "0DAwVw7RfDNG"
      },
      "outputs": [],
      "source": [
        "!unzip gtsrb"
      ]
    },
    {
      "cell_type": "code",
      "execution_count": null,
      "metadata": {
        "colab": {
          "background_save": true,
          "base_uri": "https://localhost:8080/",
          "height": 486
        },
        "id": "1M-DHVjKc62r",
        "outputId": "54d76dc2-33bc-4297-bc95-78b5ccdaaf14"
      },
      "outputs": [
        {
          "name": "stdout",
          "output_type": "stream",
          "text": [
            "1/1 [==============================] - 0s 86ms/step\n",
            "0\n"
          ]
        },
        {
          "data": {
            "image/png": "[encoded data removed]",
            "text/plain": [
              "<Figure size 640x480 with 1 Axes>"
            ]
          },
          "metadata": {},
          "output_type": "display_data"
        }
      ],
      "source": [
        "import tensorflow as tf\n",
        "import cv2\n",
        "import numpy as np\n",
        "import matplotlib.pyplot as plt\n",
        "\n",
        "model = tf.keras.models.load_model('my_model6')\n",
        "\n",
        "image_path = \"illustration-of-20-kmh-speed-limit-traffic-sign-T830AY.jpg\"\n",
        "\n",
        "image = cv2.imread(image_path)\n",
        "image = cv2.cvtColor(image, cv2.COLOR_BGR2RGB)\n",
        "image = cv2.resize(image, dsize=(30,30))\n",
        "image = image.astype(np.float32) / 255.0\n",
        "\n",
        "predicted_classes = model.predict(np.expand_dims(image, axis=0))\n",
        "\n",
        "traffic_signs_labels = [\"twenty\", \"thirty\"]\n",
        "for i in range(2,43):\n",
        "  traffic_signs_labels.append(i)\n",
        "\n",
        "predicted_class_index = np.argmax(predicted_classes)\n",
        "\n",
        "predicted_label = traffic_signs_labels[predicted_class_index]\n",
        "print(predicted_class_index)\n",
        "\n",
        "plt.imshow(image)\n",
        "plt.title(predicted_label)\n",
        "plt.show()\n"
      ]
    },
    {
      "cell_type": "code",
      "execution_count": null,
      "metadata": {
        "id": "qekBLCq4naPP"
      },
      "outputs": [],
      "source": [
        "!wget https://cdn4.vectorstock.com/i/1000x1000/80/33/maximum-speed-limit-100-sign-flat-icon-vector-14488033.jpg"
      ]
    },
    {
      "cell_type": "code",
      "execution_count": null,
      "metadata": {
        "id": "ALyxu7BmdoYL"
      },
      "outputs": [],
      "source": [
        "!wget https://cdn.shakedeal.com/images/thumbnails/330/330/detailed/239/SDASL0022600.jpg?t=1545143837"
      ]
    },
    {
      "cell_type": "code",
      "execution_count": null,
      "metadata": {
        "id": "iyraGSLOGfsA"
      },
      "outputs": [],
      "source": [
        "!wget https://c8.alamy.com/comp/T830AY/illustration-of-20-kmh-speed-limit-traffic-sign-T830AY.jpg"
      ]
    }
  ],
  "metadata": {
    "colab": {
      "provenance": [],
      "authorship_tag": "ABX9TyMNgVeVZPa2uXKqr4kucxr/",
      "include_colab_link": true
    },
    "kernelspec": {
      "display_name": "Python 3",
      "name": "python3"
    },
    "language_info": {
      "name": "python"
    }
  },
  "nbformat": 4,
  "nbformat_minor": 0
}